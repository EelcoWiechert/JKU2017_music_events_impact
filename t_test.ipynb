{
 "cells": [
  {
   "cell_type": "markdown",
   "metadata": {
    "collapsed": true
   },
   "source": [
    "# First test to identify the impact of world events on music listening behaviour"
   ]
  },
  {
   "cell_type": "markdown",
   "metadata": {},
   "source": [
    "Import the needed libraries"
   ]
  },
  {
   "cell_type": "code",
   "execution_count": 64,
   "metadata": {
    "collapsed": false
   },
   "outputs": [],
   "source": [
    "from datetime import datetime, timedelta\n",
    "import scipy.stats\n",
    "import codecs                     # load UTF-8 Content\n",
    "import json                       # load JSON files\n",
    "import pandas as pd               # Pandas handles dataframes\n",
    "import numpy as np                # Numpy handles lots of basic maths operations\n",
    "import matplotlib.pyplot as plt   # Matplotlib for plotting\n",
    "import seaborn as sns             # Seaborn for beautiful plots\n",
    "from dateutil import *            # I prefer dateutil for parsing dates\n",
    "import math                       # transformations\n",
    "import statsmodels.formula.api as smf  # for doing statistical regression\n",
    "import statsmodels.api as sm      # access to the wider statsmodels library, including R datasets\n",
    "from collections import Counter   # Counter is useful for grouping and counting\n",
    "import scipy\n",
    "from patsy import dmatrices\n",
    "import statsmodels.formula.api as sm"
   ]
  },
  {
   "cell_type": "markdown",
   "metadata": {},
   "source": [
    "Set global variables\n",
    "\n",
    "N: the period, in days, before and after the event we are interested in"
   ]
  },
  {
   "cell_type": "code",
   "execution_count": 14,
   "metadata": {
    "collapsed": true
   },
   "outputs": [],
   "source": [
    "N=7"
   ]
  },
  {
   "cell_type": "markdown",
   "metadata": {},
   "source": [
    "Set global functions"
   ]
  },
  {
   "cell_type": "code",
   "execution_count": 3,
   "metadata": {
    "collapsed": true
   },
   "outputs": [],
   "source": [
    "def read_events(a_file):\n",
    "    events = pd.read_csv(a_file, sep=\",\", names=['id', 'description', 'year', 'month', 'day', 'category'])\n",
    "    return events"
   ]
  },
  {
   "cell_type": "markdown",
   "metadata": {},
   "source": [
    "# Event data"
   ]
  },
  {
   "cell_type": "markdown",
   "metadata": {},
   "source": [
    "We load the events in a Pandas dataframe and create a new column that contains the date in one cell. The date is converted to datetime in order to make future processing easier. As we only have music data up till 2015, we filter out all the events after 01/01/2015."
   ]
  },
  {
   "cell_type": "code",
   "execution_count": 4,
   "metadata": {
    "collapsed": false
   },
   "outputs": [
    {
     "name": "stdout",
     "output_type": "stream",
     "text": [
      "    id        description  year  month  day category       date\n",
      "60  60           iPhone 6  2014      9    9     tech 2014-09-09\n",
      "61  61  Samsung Galaxy S5  2014      2   25     tech 2014-02-25\n",
      "62  62            Nexus 6  2014     10   16     tech 2014-10-16\n",
      "63  63             Moto G  2014     11   28     tech 2014-11-28\n",
      "64  64     Samsung Note 4  2014      8   31     tech 2014-08-31\n"
     ]
    }
   ],
   "source": [
    "events = read_events(\"data/events.csv\")\n",
    "\n",
    "dates = []\n",
    "for index, row in events.iterrows():\n",
    "    date = str(events.iloc[index]['year']) + \"-\" + str(events.iloc[index]['month']) + \"-\" + str(events.iloc[index]['day'])\n",
    "    dates.append(date)\n",
    "\n",
    "# CREATE A NEW DATA FRAME AND MERGE WITH EVENT DATA FRAME\n",
    "df2 = pd.DataFrame(dates, columns=['date'])\n",
    "events = pd.concat([events, df2], axis=1)\n",
    "events['date'] = pd.to_datetime(events['date'], format='%Y-%m-%d')\n",
    "\n",
    "# APPLY FILTER TO EVENT DATA FRAME\n",
    "events_filtered = events[(events['year'] < 2015)]\n",
    "\n",
    "print(events_filtered.head())"
   ]
  },
  {
   "cell_type": "markdown",
   "metadata": {},
   "source": [
    "# Load the listening event  data"
   ]
  },
  {
   "cell_type": "markdown",
   "metadata": {},
   "source": [
    "We load the created data from the folder and load it into a dataframe. We convert the time for processing purposes."
   ]
  },
  {
   "cell_type": "code",
   "execution_count": 5,
   "metadata": {
    "collapsed": false
   },
   "outputs": [
    {
     "name": "stdout",
     "output_type": "stream",
     "text": [
      "  country genre  playcount  relative_play       week  year\n",
      "0      AT  punk         12       1.000000 2005-01-01  2005\n",
      "1      AT  punk          4       0.173913 2005-02-19  2005\n",
      "2      AT  punk         13       0.317073 2005-02-25  2005\n",
      "3      AT  punk          1       0.016949 2005-03-04  2005\n",
      "4      AT  punk          1       0.500000 2005-04-05  2005\n"
     ]
    }
   ],
   "source": [
    "df = pd.DataFrame(json.load(open(\"../data/allCountries_relativePlaycount_Genre.json\")))\n",
    "df['week'] = pd.to_datetime(df['week'], format='%Y-%m-%d')\n",
    "print(df.head())"
   ]
  },
  {
   "cell_type": "markdown",
   "metadata": {},
   "source": [
    "Here, we can filter data in order to make processing faster. For now, we have concentrated ourselves at the US only."
   ]
  },
  {
   "cell_type": "code",
   "execution_count": 6,
   "metadata": {
    "collapsed": false
   },
   "outputs": [
    {
     "name": "stdout",
     "output_type": "stream",
     "text": [
      "      country            genre  playcount  relative_play       week  year\n",
      "49898      US  total_playcount        856            1.0 2005-01-01  2005\n",
      "49899      US  total_playcount        508            1.0 2005-02-14  2005\n",
      "49900      US  total_playcount        634            1.0 2005-02-15  2005\n",
      "49901      US  total_playcount        635            1.0 2005-02-16  2005\n",
      "49902      US  total_playcount        637            1.0 2005-02-17  2005\n"
     ]
    }
   ],
   "source": [
    "# FILTER COUNTRIES\n",
    "df_filter = df[(df.country == \"US\") & (df.genre == \"total_playcount\")]\n",
    "print(df_filter.head())\n",
    "\n",
    "#genres = list(set(df_filter['genre']))\n",
    "years = list(set(df_filter['year']))"
   ]
  },
  {
   "cell_type": "markdown",
   "metadata": {},
   "source": [
    "We perform a two-sample Welsh t-test, which assumes unequal variance. The first sample is the absolute playcount of songs N days prior to the event, the second sample comprises the absolute playcount 7 days after the event (including the event date itself. We have set the required significance level at .05.\n",
    "We let the script print the event if there is a significant difference between the both. Furthermore, we create a plot for each significant event. \n",
    "\n",
    "From the plots, it looks like there is a significant seasonal effect that influences the data. However, this is not the case for all events."
   ]
  },
  {
   "cell_type": "code",
   "execution_count": 7,
   "metadata": {
    "collapsed": false
   },
   "outputs": [
    {
     "name": "stdout",
     "output_type": "stream",
     "text": [
      "Baidu 2005-12-25 00:00:00 Ttest_indResult(statistic=3.1189328038721893, pvalue=0.010804563599950578)\n",
      "iTunes 2005-12-25 00:00:00 Ttest_indResult(statistic=3.1189328038721893, pvalue=0.010804563599950578)\n",
      "World of Warcraft 2005-03-25 00:00:00 Ttest_indResult(statistic=-2.2565977216037281, pvalue=0.03307451465256353)\n",
      "Leonardo da Vinci 2005-04-15 00:00:00 Ttest_indResult(statistic=-3.3595002141328947, pvalue=0.0025342568965619713)\n",
      "Facebook 2007-12-24 00:00:00 Ttest_indResult(statistic=5.1145946925120223, pvalue=0.00018552577304434541)\n",
      "Dailymotion 2007-12-22 00:00:00 Ttest_indResult(statistic=6.1494645974682358, pvalue=8.2245887610422722e-06)\n",
      "Webkinz 2007-12-25 00:00:00 Ttest_indResult(statistic=8.3070411901541021, pvalue=2.6580807466273438e-07)\n",
      "YouTube 2007-12-23 00:00:00 Ttest_indResult(statistic=5.7894776439592341, pvalue=3.656173022689673e-05)\n",
      "Second Life 2007-01-31 00:00:00 Ttest_indResult(statistic=-4.337358057998336, pvalue=0.00021705810835680352)\n",
      "Hi5 2007-12-22 00:00:00 Ttest_indResult(statistic=6.1494645974682358, pvalue=8.2245887610422722e-06)\n",
      "Club Penguin 2007-12-22 00:00:00 Ttest_indResult(statistic=6.1494645974682358, pvalue=8.2245887610422722e-06)\n",
      "Tuenti 2008-12-25 00:00:00 Ttest_indResult(statistic=7.8207962704638332, pvalue=7.8269030132044384e-06)\n",
      "Heath Ledger 2008-01-23 00:00:00 Ttest_indResult(statistic=-3.6548598568947197, pvalue=0.0012136752298756266)\n",
      "Nasza Klasa 2008-12-20 00:00:00 Ttest_indResult(statistic=4.931532125383459, pvalue=0.00042017773235197896)\n",
      "Wer-kennt-wen 2008-11-11 00:00:00 Ttest_indResult(statistic=-3.1978115771573479, pvalue=0.0039111698572271382)\n",
      "Tuenti 2008-12-25 00:00:00 Ttest_indResult(statistic=7.8207962704638332, pvalue=7.8269030132044384e-06)\n",
      "Heath Ledger 2008-01-23 00:00:00 Ttest_indResult(statistic=-3.6548598568947197, pvalue=0.0012136752298756266)\n",
      "Nasza Klasa 2008-12-20 00:00:00 Ttest_indResult(statistic=4.931532125383459, pvalue=0.00042017773235197896)\n",
      "Wer-kennt-wen 2008-11-12 00:00:00 Ttest_indResult(statistic=-3.1705733496852511, pvalue=0.0042092428694696709)\n",
      "Lady Gaga 2009-11-28 00:00:00 Ttest_indResult(statistic=-2.4141924455531587, pvalue=0.02401574014358519)\n",
      "iPad 2010-01-28 00:00:00 Ttest_indResult(statistic=-2.9504886289331198, pvalue=0.0068055247445773844)\n",
      "Friv 2010-12-25 00:00:00 Ttest_indResult(statistic=2.3671386822224361, pvalue=0.042385203133659455)\n",
      "Myxer 2010-12-25 00:00:00 Ttest_indResult(statistic=2.3671386822224361, pvalue=0.042385203133659455)\n",
      "Facebook 2010-12-25 00:00:00 Ttest_indResult(statistic=2.3671386822224361, pvalue=0.042385203133659455)\n",
      "iPad 2010-01-28 00:00:00 Ttest_indResult(statistic=-2.9504886289331198, pvalue=0.0068055247445773844)\n",
      "Friv 2010-12-25 00:00:00 Ttest_indResult(statistic=2.3671386822224361, pvalue=0.042385203133659455)\n",
      "Myxer 2010-12-25 00:00:00 Ttest_indResult(statistic=2.3671386822224361, pvalue=0.042385203133659455)\n",
      "Facebook 2010-12-25 00:00:00 Ttest_indResult(statistic=2.3671386822224361, pvalue=0.042385203133659455)\n"
     ]
    },
    {
     "name": "stderr",
     "output_type": "stream",
     "text": [
      "/Users/eelcowiechert/anacona36/anaconda/lib/python3.6/site-packages/numpy/core/fromnumeric.py:3126: RuntimeWarning: Degrees of freedom <= 0 for slice\n",
      "  **kwargs)\n",
      "/Users/eelcowiechert/anacona36/anaconda/lib/python3.6/site-packages/numpy/core/_methods.py:127: RuntimeWarning: invalid value encountered in double_scalars\n",
      "  ret = ret.dtype.type(ret / rcount)\n"
     ]
    },
    {
     "name": "stdout",
     "output_type": "stream",
     "text": [
      "BBB12 2012-01-17 00:00:00 Ttest_indResult(statistic=-3.7441968603115252, pvalue=0.00095944240883177466)\n",
      "Samsung Galaxy S3 2012-12-25 00:00:00 Ttest_indResult(statistic=3.5890134562606559, pvalue=0.0023912843549986789)\n",
      "Nexus 7 2012-12-25 00:00:00 Ttest_indResult(statistic=3.5890134562606559, pvalue=0.0023912843549986789)\n",
      "Galaxy Note 2 2012-12-25 00:00:00 Ttest_indResult(statistic=3.5890134562606559, pvalue=0.0023912843549986789)\n",
      "Play Station 2012-12-25 00:00:00 Ttest_indResult(statistic=3.5890134562606559, pvalue=0.0023912843549986789)\n",
      "iPad 4 2012-12-25 00:00:00 Ttest_indResult(statistic=3.5890134562606559, pvalue=0.0023912843549986789)\n",
      "Kindle Fire 2012-12-25 00:00:00 Ttest_indResult(statistic=3.5890134562606559, pvalue=0.0023912843549986789)\n",
      "Kate Middleton Pictures Released 2012-12-13 00:00:00 Ttest_indResult(statistic=3.469862589790834, pvalue=0.0020103876066579146)\n",
      "SOPA Debate 2012-01-20 00:00:00 Ttest_indResult(statistic=-2.7703129353285356, pvalue=0.010670834823118083)\n",
      "Costa Concordia crash 2012-01-15 00:00:00 Ttest_indResult(statistic=-3.2526099650945715, pvalue=0.0032915446576780249)\n",
      "Donna Summer 2012-05-17 00:00:00 Ttest_indResult(statistic=2.0884510697985137, pvalue=0.047101289963229542)\n",
      "Kate Middleton Pictures Released 2012-12-13 00:00:00 Ttest_indResult(statistic=3.469862589790834, pvalue=0.0020103876066579146)\n",
      "SOPA Debate 2012-01-20 00:00:00 Ttest_indResult(statistic=-2.7703129353285356, pvalue=0.010670834823118083)\n",
      "Costa Concordia crash 2012-01-14 00:00:00 Ttest_indResult(statistic=-2.8270502393331043, pvalue=0.0093330011335806314)\n",
      "BBB12 2012-01-17 00:00:00 Ttest_indResult(statistic=-3.7441968603115252, pvalue=0.00095944240883177466)\n",
      "Samsung Galaxy S3 2012-12-25 00:00:00 Ttest_indResult(statistic=3.5890134562606559, pvalue=0.0023912843549986789)\n",
      "Nexus 7 2012-12-25 00:00:00 Ttest_indResult(statistic=3.5890134562606559, pvalue=0.0023912843549986789)\n",
      "Galaxy Note 2 2012-12-25 00:00:00 Ttest_indResult(statistic=3.5890134562606559, pvalue=0.0023912843549986789)\n",
      "Play Station 2012-12-25 00:00:00 Ttest_indResult(statistic=3.5890134562606559, pvalue=0.0023912843549986789)\n",
      "iPad 4 2012-12-25 00:00:00 Ttest_indResult(statistic=3.5890134562606559, pvalue=0.0023912843549986789)\n",
      "Kindle Fire 2012-12-25 00:00:00 Ttest_indResult(statistic=3.5890134562606559, pvalue=0.0023912843549986789)\n",
      "Kate Middleton Pictures Released 2012-12-13 00:00:00 Ttest_indResult(statistic=3.469862589790834, pvalue=0.0020103876066579146)\n",
      "SOPA Debate 2012-01-18 00:00:00 Ttest_indResult(statistic=-3.3016888907651918, pvalue=0.0029558362963316015)\n",
      "Costa Concordia crash 2012-01-16 00:00:00 Ttest_indResult(statistic=-3.9328838409179481, pvalue=0.00059424069082542128)\n",
      "Samsung Galaxy Note 3 2013-12-25 00:00:00 Ttest_indResult(statistic=4.1124840327451073, pvalue=0.00083603617475561185)\n",
      "Samsung Galaxy Note 3 2013-12-25 00:00:00 Ttest_indResult(statistic=4.1124840327451073, pvalue=0.00083603617475561185)\n",
      "Samsung Note 4 2014-08-31 00:00:00 Ttest_indResult(statistic=4.886878188700492, pvalue=0.0015613097222754121)\n",
      "Nokia X 2014-03-23 00:00:00 Ttest_indResult(statistic=3.6829541581220755, pvalue=0.0012078724869697809)\n",
      "ISIS 2014-08-20 00:00:00 Ttest_indResult(statistic=5.1417122243390434, pvalue=0.00013790570843546241)\n",
      "Malaysia Airlines 2014-03-08 00:00:00 Ttest_indResult(statistic=2.3912677517989009, pvalue=0.024843547930771266)\n",
      "Gaza and Israel 2014-07-18 00:00:00 Ttest_indResult(statistic=5.1075915018149809, pvalue=4.8911748691799326e-05)\n",
      "Oscar Pistorius trial 2014-04-10 00:00:00 Ttest_indResult(statistic=4.5159739742125398, pvalue=0.00013081201297368607)\n",
      "Malaysia Airlines 2014-03-08 00:00:00 Ttest_indResult(statistic=2.3912677517989009, pvalue=0.024843547930771266)\n",
      "ALS Ice Bucket Challenge 2014-08-21 00:00:00 Ttest_indResult(statistic=6.3094427876031656, pvalue=1.9292973056747795e-05)\n",
      "Conchita Wurst 2014-05-11 00:00:00 Ttest_indResult(statistic=6.5216492614088626, pvalue=1.2017194368617359e-05)\n",
      "ISIS 2014-08-20 00:00:00 Ttest_indResult(statistic=5.1417122243390434, pvalue=0.00013790570843546241)\n",
      "Frozen 2014-03-22 00:00:00 Ttest_indResult(statistic=4.4725970578620435, pvalue=0.00015054676232769868)\n",
      "Samsung Note 4 2014-08-31 00:00:00 Ttest_indResult(statistic=4.886878188700492, pvalue=0.0015613097222754121)\n",
      "Nokia X 2014-03-22 00:00:00 Ttest_indResult(statistic=4.4725970578620435, pvalue=0.00015054676232769868)\n",
      "ISIS 2014-08-20 00:00:00 Ttest_indResult(statistic=5.1417122243390434, pvalue=0.00013790570843546241)\n",
      "Malaysia Airlines 2014-03-08 00:00:00 Ttest_indResult(statistic=2.3912677517989009, pvalue=0.024843547930771266)\n",
      "Gaza and Israel 2014-07-18 00:00:00 Ttest_indResult(statistic=5.1075915018149809, pvalue=4.8911748691799326e-05)\n",
      "Oscar Pistorius trial 2014-04-10 00:00:00 Ttest_indResult(statistic=4.5159739742125398, pvalue=0.00013081201297368607)\n",
      "Malaysia Airlines 2014-03-08 00:00:00 Ttest_indResult(statistic=2.3912677517989009, pvalue=0.024843547930771266)\n",
      "ALS Ice Bucket Challenge 2014-08-21 00:00:00 Ttest_indResult(statistic=6.3094427876031656, pvalue=1.9292973056747795e-05)\n",
      "Conchita Wurst 2014-05-11 00:00:00 Ttest_indResult(statistic=6.5216492614088626, pvalue=1.2017194368617359e-05)\n",
      "ISIS 2014-08-20 00:00:00 Ttest_indResult(statistic=5.1417122243390434, pvalue=0.00013790570843546241)\n"
     ]
    }
   ],
   "source": [
    "for year in years:\n",
    "    \n",
    "    df_focus = df_filter[(df_filter.year == year)]\n",
    "    \n",
    "    if True:\n",
    "\n",
    "        #df_filter_years_genres = df_filter_years[(df_filter.genre == genre)]\n",
    "\n",
    "        for index, row in events_filtered.iterrows():\n",
    "            dateEvent = row.date\n",
    "            dateBefore = row.date - timedelta(days=N)\n",
    "            dateAfter = row.date + timedelta(days=N)\n",
    "\n",
    "            # ONLY FOR X DAYS BEFORE AND AFTER THE EVENT\n",
    "            group_A = df_focus[(df_focus['week'] < dateEvent) & (df_focus['week'] > dateBefore)]\n",
    "            group_B = df_focus[(df_focus['week'] >= dateEvent) & (df_focus['week'] < dateAfter)]\n",
    "            \n",
    "            if True:\n",
    "                list_1 = list(group_A['playcount'])\n",
    "                list_2 = list(group_B['playcount'])\n",
    "\n",
    "                t_test = scipy.stats.ttest_ind(list_1, list_2, equal_var=False)\n",
    "\n",
    "                # PRINT EVENT WHEN SIGNIFICANT\n",
    "                if t_test[1] < 0.05:\n",
    "                    print(row.description, row.date, t_test)\n",
    "                    \n",
    "                    plt.plot(group_A.week, group_A.playcount, color='r')\n",
    "                    plt.plot(group_B.week, group_B.playcount)\n",
    "                    plt.axvline(x=row.date, color=\"black\", linestyle=\"--\")\n",
    "                    plt.xlim([dateBefore, dateAfter])\n",
    "                    plt.xticks(rotation=45)\n",
    "                    plt.xlabel('Date')\n",
    "                    plt.ylabel('Absolute playcount')\n",
    "                    plt.title(str(row.description) + '_' + str(row.year) + '-'+ str(row.month) + '-'+ str(row.day))\n",
    "                    plt.savefig('../data/figures/' + str(row.description) + '_' + str(row.year) + '-'+ str(row.month) + '-'+ str(row.day) + '.png', dpi=300)\n",
    "                    plt.close()"
   ]
  },
  {
   "cell_type": "markdown",
   "metadata": {},
   "source": [
    "## Use data splitted into components"
   ]
  },
  {
   "cell_type": "markdown",
   "metadata": {},
   "source": [
    "As we seems that the data is influenced by a seasonal component (re-occuring pattern), we create a new dataframe which includes a seperation of the original dataframe into a trend, seasonal and residual component."
   ]
  },
  {
   "cell_type": "code",
   "execution_count": 119,
   "metadata": {
    "collapsed": false
   },
   "outputs": [
    {
     "name": "stdout",
     "output_type": "stream",
     "text": [
      "  country       date            genre  original  residual   seasonal  trend  \\\n",
      "0      US 2005-01-01  total_playcount     856.0       NaN -34.666493    NaN   \n",
      "1      US 2005-02-14  total_playcount     508.0       NaN  37.839847    NaN   \n",
      "2      US 2005-02-15  total_playcount     634.0       NaN -19.994159    NaN   \n",
      "3      US 2005-02-16  total_playcount     635.0       NaN -88.823265    NaN   \n",
      "4      US 2005-02-17  total_playcount     637.0       NaN -11.010729    NaN   \n",
      "\n",
      "      no_seas  \n",
      "0  890.666493  \n",
      "1  470.160153  \n",
      "2  653.994159  \n",
      "3  723.823265  \n",
      "4  648.010729  \n"
     ]
    }
   ],
   "source": [
    "df = pd.DataFrame(json.load(open(\"../data/TSA_one_genre_components.json\")))\n",
    "df['date'] = pd.to_datetime(df['date'], format='%Y-%m-%d')\n",
    "df['original'] = df['original'].astype('float64')\n",
    "df['trend'] = df['trend'].astype('float64')\n",
    "df['seasonal'] = df['seasonal'].astype('float64')\n",
    "df['residual'] = df['residual'].astype('float64')\n",
    "\n",
    "# CREATE DATA WITHOUT SEASONAL COMPONENT\n",
    "df['no_seas'] = df['original'] - df['seasonal']\n",
    "\n",
    "print(df.head())"
   ]
  },
  {
   "cell_type": "code",
   "execution_count": 120,
   "metadata": {
    "collapsed": false
   },
   "outputs": [
    {
     "name": "stdout",
     "output_type": "stream",
     "text": [
      "  country       date            genre  original  residual   seasonal  trend  \\\n",
      "0      US 2005-01-01  total_playcount     856.0       NaN -34.666493    NaN   \n",
      "1      US 2005-02-14  total_playcount     508.0       NaN  37.839847    NaN   \n",
      "2      US 2005-02-15  total_playcount     634.0       NaN -19.994159    NaN   \n",
      "3      US 2005-02-16  total_playcount     635.0       NaN -88.823265    NaN   \n",
      "4      US 2005-02-17  total_playcount     637.0       NaN -11.010729    NaN   \n",
      "\n",
      "      no_seas  year  \n",
      "0  890.666493  2005  \n",
      "1  470.160153  2005  \n",
      "2  653.994159  2005  \n",
      "3  723.823265  2005  \n",
      "4  648.010729  2005  \n"
     ]
    },
    {
     "name": "stderr",
     "output_type": "stream",
     "text": [
      "/Users/eelcowiechert/anacona36/anaconda/lib/python3.6/site-packages/ipykernel/__main__.py:7: SettingWithCopyWarning: \n",
      "A value is trying to be set on a copy of a slice from a DataFrame.\n",
      "Try using .loc[row_indexer,col_indexer] = value instead\n",
      "\n",
      "See the caveats in the documentation: http://pandas.pydata.org/pandas-docs/stable/indexing.html#indexing-view-versus-copy\n"
     ]
    }
   ],
   "source": [
    "# FILTER COUNTRIES\n",
    "df_filter = df[(df.country == \"US\")]\n",
    "\n",
    "def get_year(year):\n",
    "    return year.year\n",
    "\n",
    "df_filter['year'] = df_filter['date'].map(get_year)\n",
    "\n",
    "print(df_filter.head())\n",
    "#genres = list(set(df_filter['genre']))\n",
    "years = list(set(df_filter['year']))"
   ]
  },
  {
   "cell_type": "markdown",
   "metadata": {},
   "source": [
    "Again, we perform a Welsh t-test"
   ]
  },
  {
   "cell_type": "code",
   "execution_count": 121,
   "metadata": {
    "collapsed": false
   },
   "outputs": [
    {
     "name": "stdout",
     "output_type": "stream",
     "text": [
      "Ares 2005-10-15 00:00:00 Ttest_indResult(statistic=-3.0269343818929824, pvalue=0.011632296988400648)\n",
      "Sky News 2005-07-07 00:00:00 Ttest_indResult(statistic=-2.918285250180316, pvalue=0.014400438356753505)\n",
      "Facebook 2007-12-24 00:00:00 Ttest_indResult(statistic=3.0709156968927935, pvalue=0.011749488506499775)\n",
      "Dailymotion 2007-12-22 00:00:00 Ttest_indResult(statistic=5.1985589262747061, pvalue=0.00036812998334475342)\n",
      "Webkinz 2007-12-25 00:00:00 Ttest_indResult(statistic=4.7460580415376059, pvalue=0.0033934793524578568)\n",
      "YouTube 2007-12-23 00:00:00 Ttest_indResult(statistic=3.390345338071711, pvalue=0.0068583240281245399)\n",
      "eBuddy 2007-03-16 00:00:00 Ttest_indResult(statistic=-3.2149985833671182, pvalue=0.010972736601274369)\n",
      "Hi5 2007-12-22 00:00:00 Ttest_indResult(statistic=5.1985589262747061, pvalue=0.00036812998334475342)\n",
      "Club Penguin 2007-12-22 00:00:00 Ttest_indResult(statistic=5.1985589262747061, pvalue=0.00036812998334475342)\n",
      "Tuenti 2008-12-25 00:00:00 Ttest_indResult(statistic=5.3004833925120343, pvalue=0.00054712202253301488)\n",
      "Heath Ledger 2008-01-23 00:00:00 Ttest_indResult(statistic=-3.6151673847393409, pvalue=0.0044272363921939971)\n",
      "Nasza Klasa 2008-12-20 00:00:00 Ttest_indResult(statistic=3.8065556414387323, pvalue=0.0042236224080843291)\n",
      "Tuenti 2008-12-25 00:00:00 Ttest_indResult(statistic=5.3004833925120343, pvalue=0.00054712202253301488)\n",
      "Heath Ledger 2008-01-23 00:00:00 Ttest_indResult(statistic=-3.6151673847393409, pvalue=0.0044272363921939971)\n",
      "Nasza Klasa 2008-12-20 00:00:00 Ttest_indResult(statistic=3.8065556414387323, pvalue=0.0042236224080843291)\n"
     ]
    },
    {
     "name": "stderr",
     "output_type": "stream",
     "text": [
      "/Users/eelcowiechert/anacona36/anaconda/lib/python3.6/site-packages/numpy/core/fromnumeric.py:3126: RuntimeWarning: Degrees of freedom <= 0 for slice\n",
      "  **kwargs)\n",
      "/Users/eelcowiechert/anacona36/anaconda/lib/python3.6/site-packages/numpy/core/_methods.py:127: RuntimeWarning: invalid value encountered in double_scalars\n",
      "  ret = ret.dtype.type(ret / rcount)\n"
     ]
    },
    {
     "name": "stdout",
     "output_type": "stream",
     "text": [
      "Samsung Note 4 2014-08-31 00:00:00 Ttest_indResult(statistic=3.4145364500301807, pvalue=0.040510625812618294)\n",
      "ISIS 2014-08-20 00:00:00 Ttest_indResult(statistic=3.3449074643684353, pvalue=0.010073692955589559)\n",
      "ALS Ice Bucket Challenge 2014-08-21 00:00:00 Ttest_indResult(statistic=5.3163423932748701, pvalue=0.00047786839181138206)\n",
      "Conchita Wurst 2014-05-11 00:00:00 Ttest_indResult(statistic=4.3705885587622859, pvalue=0.0028023440161527783)\n",
      "ISIS 2014-08-20 00:00:00 Ttest_indResult(statistic=3.3449074643684353, pvalue=0.010073692955589559)\n",
      "Samsung Note 4 2014-08-31 00:00:00 Ttest_indResult(statistic=3.4145364500301807, pvalue=0.040510625812618294)\n",
      "ISIS 2014-08-20 00:00:00 Ttest_indResult(statistic=3.3449074643684353, pvalue=0.010073692955589559)\n",
      "ALS Ice Bucket Challenge 2014-08-21 00:00:00 Ttest_indResult(statistic=5.3163423932748701, pvalue=0.00047786839181138206)\n",
      "Conchita Wurst 2014-05-11 00:00:00 Ttest_indResult(statistic=4.3705885587622859, pvalue=0.0028023440161527783)\n",
      "ISIS 2014-08-20 00:00:00 Ttest_indResult(statistic=3.3449074643684353, pvalue=0.010073692955589559)\n"
     ]
    }
   ],
   "source": [
    "for year in years:\n",
    "    \n",
    "    df_focus = df_filter[(df_filter.year == year)]\n",
    "\n",
    "    for index, row in events_filtered.iterrows():\n",
    "        if row.year == year:\n",
    "            dateEvent = row.date\n",
    "            dateBefore = row.date - timedelta(days=N)\n",
    "            dateAfter = row.date + timedelta(days=N)\n",
    "\n",
    "            # ONLY FOR X DAYS BEFORE AND AFTER THE EVENT\n",
    "            group_A = df_focus[(df_focus['date'] < dateEvent) & (df_focus['date'] > dateBefore)]\n",
    "            group_B = df_focus[(df_focus['date'] >= dateEvent) & (df_focus['date'] < dateAfter)]\n",
    "            \n",
    "            list_1 = list(group_A['no_seas'])\n",
    "            list_2 = list(group_B['no_seas'])\n",
    "\n",
    "            t_test = scipy.stats.ttest_ind(list_1, list_2, equal_var=False)\n",
    "\n",
    "            # PRINT EVENT WHEN SIGNIFICANT\n",
    "            if t_test[1] < 0.05:\n",
    "                print(row.description, row.date, t_test)\n",
    "                \n",
    "                plt.plot(group_A.date, group_A.no_seas, color='r')\n",
    "                plt.plot(group_B.date, group_B.no_seas)\n",
    "                plt.axvline(x=row.date, color=\"black\", linestyle=\"--\")\n",
    "                plt.xlim([dateBefore, dateAfter])\n",
    "                plt.ylim([0,max(max(list_1),max(list_2))+100])\n",
    "                plt.xticks(rotation=45)\n",
    "                plt.xlabel('Date')\n",
    "                plt.ylabel('Absolute playcount')\n",
    "                plt.title(str(row.description) + '_' + str(row.year) + '-'+ str(row.month) + '-'+ str(row.day))\n",
    "                plt.savefig('../data/figures/No_seasonal_' + str(row.description) + '_' + str(row.year) + '-'+ str(row.month) + '-'+ str(row.day) + '.png', dpi=300)\n",
    "                plt.close()"
   ]
  },
  {
   "cell_type": "markdown",
   "metadata": {
    "collapsed": true
   },
   "source": [
    "# Perform the RDD"
   ]
  },
  {
   "cell_type": "markdown",
   "metadata": {
    "collapsed": true
   },
   "source": [
    "From the t-test, we can see that the placount already went down or up before the event, and that a found difference in the t-test is a logical finding. However, this can not be subscribed to the event. We are therfore looking to a discontiniuity in the data. Therefore we perform a RDD. \n",
    "\n",
    "The Forcing Variable (csize) is centered around the cutoff, and the cutoff predictor (small) is a dichotomous variable that indicates which side of the cutoff an observation lands."
   ]
  },
  {
   "cell_type": "code",
   "execution_count": 67,
   "metadata": {
    "collapsed": false
   },
   "outputs": [
    {
     "name": "stderr",
     "output_type": "stream",
     "text": [
      "/Users/eelcowiechert/anacona36/anaconda/lib/python3.6/site-packages/ipykernel/__main__.py:31: SettingWithCopyWarning: \n",
      "A value is trying to be set on a copy of a slice from a DataFrame.\n",
      "Try using .loc[row_indexer,col_indexer] = value instead\n",
      "\n",
      "See the caveats in the documentation: http://pandas.pydata.org/pandas-docs/stable/indexing.html#indexing-view-versus-copy\n",
      "/Users/eelcowiechert/anacona36/anaconda/lib/python3.6/site-packages/ipykernel/__main__.py:32: SettingWithCopyWarning: \n",
      "A value is trying to be set on a copy of a slice from a DataFrame.\n",
      "Try using .loc[row_indexer,col_indexer] = value instead\n",
      "\n",
      "See the caveats in the documentation: http://pandas.pydata.org/pandas-docs/stable/indexing.html#indexing-view-versus-copy\n",
      "/Users/eelcowiechert/anacona36/anaconda/lib/python3.6/site-packages/matplotlib/pyplot.py:524: RuntimeWarning: More than 20 figures have been opened. Figures created through the pyplot interface (`matplotlib.pyplot.figure`) are retained until explicitly closed and may consume too much memory. (To control this warning, see the rcParam `figure.max_open_warning`).\n",
      "  max_open_warning, RuntimeWarning)\n",
      "/Users/eelcowiechert/anacona36/anaconda/lib/python3.6/site-packages/statsmodels/regression/linear_model.py:1353: RuntimeWarning: divide by zero encountered in double_scalars\n",
      "  return np.dot(wresid, wresid) / self.df_resid\n"
     ]
    }
   ],
   "source": [
    "for year in years:\n",
    "    \n",
    "    df_focus = df_filter[(df_filter.year == year)]\n",
    "    \n",
    "    if True:\n",
    "        \n",
    "        #df_filter_years_genres = df_filter_years[(df_filter.genre == genre)]\n",
    "\n",
    "        for index, row in events_filtered.iterrows():\n",
    "            if row.year == year:\n",
    "                dateEvent = row.date\n",
    "                dateBefore = row.date - timedelta(days=N)\n",
    "                dateAfter = row.date + timedelta(days=N)\n",
    "                \n",
    "                # FUNCTION TO CLASSIFY THE DATS BEFORE THE EVENT WITH A 0, ON AND AFTER THE EVENT WITH A 1\n",
    "                def small(size):\n",
    "                    if(size>=dateEvent):\n",
    "                        return 1\n",
    "                    return 0\n",
    "                \n",
    "                def csize(size):\n",
    "                    delta = size - dateEvent\n",
    "                    return delta.days\n",
    "\n",
    "                # ONLY FOR X DAYS BEFORE AND AFTER THE EVENT\n",
    "                data = df_focus[(df_focus['week'] < dateAfter) & (df_focus['week'] >= dateBefore)]\n",
    "                \n",
    "                if not list(data['playcount']): # WHEN THE FILTERING RETURNS AN EMPTY DATAFRAME => CONTINUE\n",
    "                    continue\n",
    "                \n",
    "                data['size'] = df_focus['week'].map(small)\n",
    "                data['csize'] = df_focus['week'].map(csize)\n",
    "                \n",
    "                result = sm.ols(formula=\"playcount ~ size + csize\", data=data).fit()\n",
    "                \n",
    "                # If sinificant, plot lines\n",
    "                if result.pvalues['size'] <0.05:\n",
    "                \n",
    "                    plt.figure(num=None, figsize=(12, 6), dpi=80, facecolor='w', edgecolor='k')\n",
    "                    plt.scatter(data.csize,data.playcount, color=\"blue\")\n",
    "                    l=data[data.csize<0].csize.count()\n",
    "                    plt.plot(data.csize[0:l], result.predict()[0:l], '-', color=\"r\")\n",
    "                    plt.plot(data.csize[l:], result.predict()[l:], '-', color=\"r\")\n",
    "                    plt.axvline(x=-0.5,color=\"black\", linestyle=\"--\")\n",
    "                    plt.xlabel('Days before and after the event')\n",
    "                    plt.ylabel('Playcount songs')\n",
    "                    plt.title(\"Regression Discontinuity: Reading playcount by date Before and After the Event \\n\" + str(row.description) + '_' + str(row.year) + '-'+ str(row.month) + '-'+ str(row.day)), fontsize=\"18\")\n",
    "                    plt.savefig('../data/figures/RDD_' + str(row.description) + '_' + str(row.year) + '-'+ str(row.month) + '-'+ str(row.day) + '.png', dpi=300)\n"
   ]
  }
 ],
 "metadata": {
  "kernelspec": {
   "display_name": "Python 3",
   "language": "python",
   "name": "python3"
  },
  "language_info": {
   "codemirror_mode": {
    "name": "ipython",
    "version": 3
   },
   "file_extension": ".py",
   "mimetype": "text/x-python",
   "name": "python",
   "nbconvert_exporter": "python",
   "pygments_lexer": "ipython3",
   "version": "3.6.0"
  }
 },
 "nbformat": 4,
 "nbformat_minor": 0
}
